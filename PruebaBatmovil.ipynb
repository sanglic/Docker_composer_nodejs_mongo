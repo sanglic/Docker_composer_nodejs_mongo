{
  "nbformat": 4,
  "nbformat_minor": 0,
  "metadata": {
    "colab": {
      "name": "PruebaBatmovil.ipynb",
      "provenance": [],
      "authorship_tag": "ABX9TyMfQawti5G8CsNpJ5Vk5uNH",
      "include_colab_link": true
    },
    "kernelspec": {
      "name": "python3",
      "display_name": "Python 3"
    }
  },
  "cells": [
    {
      "cell_type": "markdown",
      "metadata": {
        "id": "view-in-github",
        "colab_type": "text"
      },
      "source": [
        "<a href=\"https://colab.research.google.com/github/sanglic/Docker_composer_nodejs_mongo/blob/dependabot%2Fnpm_and_yarn%2Fbl-2.2.1/PruebaBatmovil.ipynb\" target=\"_parent\"><img src=\"https://colab.research.google.com/assets/colab-badge.svg\" alt=\"Open In Colab\"/></a>"
      ]
    },
    {
      "cell_type": "code",
      "metadata": {
        "id": "kHbhDdesXsBp"
      },
      "source": [
        "class Joker:\n",
        "  def __init__(self):\n",
        "    Joker.Nombre=\"Joker\"\n",
        "    pass\n",
        "\n",
        "class Batman:\n",
        "  def __init__(self):\n",
        "    Batman.Nombre=\"Batman\"\n",
        "    pass\n",
        "\n",
        "class Robin:\n",
        "  def __init__(self):\n",
        "    Robin.Nombre=\"Robin\"\n",
        "    pass\n",
        "\n",
        "class Batmovil:\n",
        "  def __init__(self, pilot, Rockets_loaded, Pem, Fuel):\n",
        "    Batmovil.distance=0;\n",
        "    self.Rockets_loaded=Rockets_loaded;\n",
        "    Batmovil.Pem=Pem;\n",
        "    self.Fuel=Fuel;\n",
        "\n",
        "    if isinstance(pilot, Batman)|isinstance(pilot,Robin):\n",
        "      self.pilot = pilot\n",
        "      print(f\"{pilot.Nombre} subió al Batmovil\") \n",
        "    else: \n",
        "      self.pilot = pilot\n",
        "      print(f\"{pilot.Nombre} no puede subir al Batmovil\")  \n",
        "  def accelerate():\n",
        "      Batmovil.distance=Batmovil.distance+100\n",
        "  def turbo():\n",
        "      Batmovil.distance=Batmovil.distance+200\n",
        "  def launch_rocket():\n",
        "      if (Batmovil.Rockets_loaded>0):\n",
        "        Batmovil.Rockets_loaded=Batmovil.Rockets_loaded-1\n",
        "      else:\n",
        "        print(\"Caution, Caution! No rockets\")\n",
        "  def launch_pem():\n",
        "      if (Pem>0):\n",
        "        Pem=Pem-1\n",
        "      else:\n",
        "        print(\"Caution, Caution! No pem pulse available\")\n",
        "\n",
        "    "
      ],
      "execution_count": null,
      "outputs": []
    },
    {
      "cell_type": "code",
      "metadata": {
        "id": "BNejEqELZr_u",
        "outputId": "e36cd508-50fa-4737-9b33-c0318ea16ee1",
        "colab": {
          "base_uri": "https://localhost:8080/"
        }
      },
      "source": [
        "sube= Batmovil(Batman(),10,30,40)\n",
        "Batmovil.accelerate()"
      ],
      "execution_count": 175,
      "outputs": [
        {
          "output_type": "stream",
          "text": [
            "Batman subió al Batmovil\n"
          ],
          "name": "stdout"
        }
      ]
    },
    {
      "cell_type": "code",
      "metadata": {
        "id": "iwM-MIG4hv2g"
      },
      "source": [
        ""
      ],
      "execution_count": 155,
      "outputs": []
    },
    {
      "cell_type": "code",
      "metadata": {
        "id": "M2-J_f3JhuYb",
        "outputId": "8ef97ab6-b738-4941-b2dd-13dd8a81c1de",
        "colab": {
          "base_uri": "https://localhost:8080/"
        }
      },
      "source": [
        "Batmovil.accelerate()\n",
        "print(Batmovil.distance)"
      ],
      "execution_count": 156,
      "outputs": [
        {
          "output_type": "stream",
          "text": [
            "200\n"
          ],
          "name": "stdout"
        }
      ]
    },
    {
      "cell_type": "code",
      "metadata": {
        "id": "s4PF0prei4lS",
        "outputId": "e3e1dcfa-cd7b-4887-9b8e-17062b8daa17",
        "colab": {
          "base_uri": "https://localhost:8080/",
          "height": 299
        }
      },
      "source": [
        "Batmovil.turbo()\n",
        "Batmovil.launch_pem()"
      ],
      "execution_count": 176,
      "outputs": [
        {
          "output_type": "error",
          "ename": "UnboundLocalError",
          "evalue": "ignored",
          "traceback": [
            "\u001b[0;31m---------------------------------------------------------------------------\u001b[0m",
            "\u001b[0;31mUnboundLocalError\u001b[0m                         Traceback (most recent call last)",
            "\u001b[0;32m<ipython-input-176-dffb5c0cd0c0>\u001b[0m in \u001b[0;36m<module>\u001b[0;34m()\u001b[0m\n\u001b[1;32m      1\u001b[0m \u001b[0mBatmovil\u001b[0m\u001b[0;34m.\u001b[0m\u001b[0mturbo\u001b[0m\u001b[0;34m(\u001b[0m\u001b[0;34m)\u001b[0m\u001b[0;34m\u001b[0m\u001b[0;34m\u001b[0m\u001b[0m\n\u001b[0;32m----> 2\u001b[0;31m \u001b[0mBatmovil\u001b[0m\u001b[0;34m.\u001b[0m\u001b[0mlaunch_pem\u001b[0m\u001b[0;34m(\u001b[0m\u001b[0;34m)\u001b[0m\u001b[0;34m\u001b[0m\u001b[0;34m\u001b[0m\u001b[0m\n\u001b[0m",
            "\u001b[0;32m<ipython-input-174-66c42eb3312c>\u001b[0m in \u001b[0;36mlaunch_pem\u001b[0;34m()\u001b[0m\n\u001b[1;32m     37\u001b[0m         \u001b[0mprint\u001b[0m\u001b[0;34m(\u001b[0m\u001b[0;34m\"Caution, Caution! No rockets\"\u001b[0m\u001b[0;34m)\u001b[0m\u001b[0;34m\u001b[0m\u001b[0;34m\u001b[0m\u001b[0m\n\u001b[1;32m     38\u001b[0m   \u001b[0;32mdef\u001b[0m \u001b[0mlaunch_pem\u001b[0m\u001b[0;34m(\u001b[0m\u001b[0;34m)\u001b[0m\u001b[0;34m:\u001b[0m\u001b[0;34m\u001b[0m\u001b[0;34m\u001b[0m\u001b[0m\n\u001b[0;32m---> 39\u001b[0;31m       \u001b[0;32mif\u001b[0m \u001b[0;34m(\u001b[0m\u001b[0mPem\u001b[0m\u001b[0;34m>\u001b[0m\u001b[0;36m0\u001b[0m\u001b[0;34m)\u001b[0m\u001b[0;34m:\u001b[0m\u001b[0;34m\u001b[0m\u001b[0;34m\u001b[0m\u001b[0m\n\u001b[0m\u001b[1;32m     40\u001b[0m         \u001b[0mPem\u001b[0m\u001b[0;34m=\u001b[0m\u001b[0mPem\u001b[0m\u001b[0;34m-\u001b[0m\u001b[0;36m1\u001b[0m\u001b[0;34m\u001b[0m\u001b[0;34m\u001b[0m\u001b[0m\n\u001b[1;32m     41\u001b[0m       \u001b[0;32melse\u001b[0m\u001b[0;34m:\u001b[0m\u001b[0;34m\u001b[0m\u001b[0;34m\u001b[0m\u001b[0m\n",
            "\u001b[0;31mUnboundLocalError\u001b[0m: local variable 'Pem' referenced before assignment"
          ]
        }
      ]
    },
    {
      "cell_type": "code",
      "metadata": {
        "id": "4-Wu7T9Ri9Z_",
        "outputId": "e3536741-3e97-4bba-fcfc-7586cc600451",
        "colab": {
          "base_uri": "https://localhost:8080/"
        }
      },
      "source": [
        "print(Batmovil.distance)"
      ],
      "execution_count": 144,
      "outputs": [
        {
          "output_type": "stream",
          "text": [
            "400\n"
          ],
          "name": "stdout"
        }
      ]
    }
  ]
}